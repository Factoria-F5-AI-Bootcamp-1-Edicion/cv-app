{
 "cells": [
  {
   "cell_type": "code",
   "execution_count": 1,
   "metadata": {},
   "outputs": [],
   "source": [
    "from dotenv import load_dotenv\n",
    "import os\n",
    "from azure.ai.formrecognizer import DocumentAnalysisClient\n",
    "from azure.ai.formrecognizer import DocumentModelAdministrationClient\n",
    "from azure.core.credentials import AzureKeyCredential"
   ]
  },
  {
   "cell_type": "code",
   "execution_count": 2,
   "metadata": {},
   "outputs": [],
   "source": [
    "# Carga las variables de entorno desde el archivo .env\n",
    "load_dotenv()\n",
    "\n",
    "# Configurar el cliente de Form Recognizer\n",
    "endpoint = os.getenv(\"AZURE_FORM_RECOGNIZER_ENDPOINT\")\n",
    "key = os.getenv(\"AZURE_FORM_RECOGNIZER_KEY\")\n",
    "model_id = \"model_1\"\n",
    "\n",
    "credential = AzureKeyCredential(key)\n",
    "document_model_admin_client = DocumentModelAdministrationClient(endpoint, credential)"
   ]
  },
  {
   "cell_type": "code",
   "execution_count": 23,
   "metadata": {},
   "outputs": [],
   "source": [
    "# formatting function\n",
    "import json\n",
    "# def format_polygon (polygon):\n",
    "#     if not polygon:\n",
    "#         return \"N/A\"\n",
    "#     return \", \".join([\"[0), ()]\".format(p.x, p.y) for p in polygon])\n",
    "\n",
    "def analyze_read(doc_name):\n",
    "\n",
    "    with open(doc_name + '.pdf', \"rb\") as fd:\n",
    "        document = fd.read()\n",
    "    \n",
    "    document_analysis_client = DocumentAnalysisClient(\n",
    "    endpoint=endpoint, credential=AzureKeyCredential(key))\n",
    "    \n",
    "    poller = document_analysis_client.begin_analyze_document (\"prebuilt-read\", document)\n",
    "    result = poller.result()\n",
    "    #save dictionary to json file\n",
    "    with open(doc_name + '.json', 'w') as json_file:\n",
    "        json.dump(result.to_dict(), json_file)  \n",
    "    \n",
    "    print(\"OCR JSON SAVED AS FILE\")"
   ]
  },
  {
   "cell_type": "code",
   "execution_count": 25,
   "metadata": {},
   "outputs": [
    {
     "name": "stdout",
     "output_type": "stream",
     "text": [
      "OCR JSON SAVED AS FILE\n"
     ]
    }
   ],
   "source": [
    "analyze_read('CV_Javier_Ingles_IA')"
   ]
  }
 ],
 "metadata": {
  "kernelspec": {
   "display_name": "f5-nlp-v2",
   "language": "python",
   "name": "python3"
  },
  "language_info": {
   "codemirror_mode": {
    "name": "ipython",
    "version": 3
   },
   "file_extension": ".py",
   "mimetype": "text/x-python",
   "name": "python",
   "nbconvert_exporter": "python",
   "pygments_lexer": "ipython3",
   "version": "3.8.16"
  },
  "orig_nbformat": 4
 },
 "nbformat": 4,
 "nbformat_minor": 2
}
