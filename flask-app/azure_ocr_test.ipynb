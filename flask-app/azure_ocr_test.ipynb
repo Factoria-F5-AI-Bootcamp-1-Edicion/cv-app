{
 "cells": [
  {
   "cell_type": "code",
   "execution_count": 1,
   "metadata": {},
   "outputs": [],
   "source": [
    "from dotenv import load_dotenv\n",
    "import os\n",
    "from azure.ai.formrecognizer import DocumentAnalysisClient\n",
    "from azure.ai.formrecognizer import DocumentModelAdministrationClient\n",
    "from azure.core.credentials import AzureKeyCredential\n",
    "from docx import Document\n",
    "from pyresparser import ResumeParser"
   ]
  },
  {
   "cell_type": "code",
   "execution_count": 2,
   "metadata": {},
   "outputs": [],
   "source": [
    "# Carga las variables de entorno desde el archivo .env\n",
    "load_dotenv()\n",
    "\n",
    "# Configurar el cliente de Form Recognizer\n",
    "endpoint = os.getenv(\"AZURE_FORM_RECOGNIZER_ENDPOINT\")\n",
    "key = os.getenv(\"AZURE_FORM_RECOGNIZER_KEY\")\n",
    "model_id = \"model_1\"\n",
    "\n",
    "credential = AzureKeyCredential(key)\n",
    "document_model_admin_client = DocumentModelAdministrationClient(endpoint, credential)"
   ]
  },
  {
   "cell_type": "code",
   "execution_count": 25,
   "metadata": {},
   "outputs": [],
   "source": [
    "import json\n",
    "\n",
    "def ocr_analysis(doc_name):\n",
    "\n",
    "    with open(doc_name + '.pdf', \"rb\") as fd:\n",
    "        document = fd.read()\n",
    "    \n",
    "    document_analysis_client = DocumentAnalysisClient(\n",
    "        endpoint=endpoint, credential=AzureKeyCredential(key))\n",
    "    \n",
    "    poller = document_analysis_client.begin_analyze_document (\"prebuilt-read\", document)\n",
    "    result = poller.result()\n",
    "    \n",
    "    # Save dictionary to JSON file\n",
    "    with open(doc_name + '.json', 'w') as json_file:\n",
    "        json.dump(result.to_dict(), json_file)\n",
    "    \n",
    "    # Load JSON file and extract content to text file\n",
    "    with open(doc_name + '.json', 'r') as json_file:\n",
    "        pdf = json.load(json_file)\n",
    "    \n",
    "    with open(doc_name + '.txt', 'w') as text_file:\n",
    "        # Write the contents of the dictionary to the text file\n",
    "        text_file.write(str(pdf['content']))\n",
    "\n",
    "    "
   ]
  },
  {
   "cell_type": "code",
   "execution_count": 26,
   "metadata": {},
   "outputs": [],
   "source": [
    "ocr_analysis('CV')\n"
   ]
  },
  {
   "cell_type": "code",
   "execution_count": 22,
   "metadata": {},
   "outputs": [
    {
     "ename": "IndexError",
     "evalue": "list index out of range",
     "output_type": "error",
     "traceback": [
      "\u001b[1;31m---------------------------------------------------------------------------\u001b[0m",
      "\u001b[1;31mFileNotFoundError\u001b[0m                         Traceback (most recent call last)",
      "Cell \u001b[1;32mIn[22], line 5\u001b[0m\n\u001b[0;32m      4\u001b[0m doc \u001b[39m=\u001b[39m Document()\n\u001b[1;32m----> 5\u001b[0m \u001b[39mwith\u001b[39;00m \u001b[39mopen\u001b[39;49m(filed, \u001b[39m'\u001b[39;49m\u001b[39mr\u001b[39;49m\u001b[39m'\u001b[39;49m) \u001b[39mas\u001b[39;00m file:\n\u001b[0;32m      6\u001b[0m     doc\u001b[39m.\u001b[39madd_paragraph(file\u001b[39m.\u001b[39mread())\n",
      "File \u001b[1;32mc:\\Users\\DooFromash\\miniconda3\\envs\\f5-nlp-v2\\lib\\site-packages\\IPython\\core\\interactiveshell.py:282\u001b[0m, in \u001b[0;36m_modified_open\u001b[1;34m(file, *args, **kwargs)\u001b[0m\n\u001b[0;32m    276\u001b[0m     \u001b[39mraise\u001b[39;00m \u001b[39mValueError\u001b[39;00m(\n\u001b[0;32m    277\u001b[0m         \u001b[39mf\u001b[39m\u001b[39m\"\u001b[39m\u001b[39mIPython won\u001b[39m\u001b[39m'\u001b[39m\u001b[39mt let you open fd=\u001b[39m\u001b[39m{\u001b[39;00mfile\u001b[39m}\u001b[39;00m\u001b[39m by default \u001b[39m\u001b[39m\"\u001b[39m\n\u001b[0;32m    278\u001b[0m         \u001b[39m\"\u001b[39m\u001b[39mas it is likely to crash IPython. If you know what you are doing, \u001b[39m\u001b[39m\"\u001b[39m\n\u001b[0;32m    279\u001b[0m         \u001b[39m\"\u001b[39m\u001b[39myou can use builtins\u001b[39m\u001b[39m'\u001b[39m\u001b[39m open.\u001b[39m\u001b[39m\"\u001b[39m\n\u001b[0;32m    280\u001b[0m     )\n\u001b[1;32m--> 282\u001b[0m \u001b[39mreturn\u001b[39;00m io_open(file, \u001b[39m*\u001b[39;49margs, \u001b[39m*\u001b[39;49m\u001b[39m*\u001b[39;49mkwargs)\n",
      "\u001b[1;31mFileNotFoundError\u001b[0m: [Errno 2] No such file or directory: ''",
      "\nDuring handling of the above exception, another exception occurred:\n",
      "\u001b[1;31mIndexError\u001b[0m                                Traceback (most recent call last)",
      "Cell \u001b[1;32mIn[22], line 11\u001b[0m\n\u001b[0;32m      8\u001b[0m     data1 \u001b[39m=\u001b[39m ResumeParser(\u001b[39m'\u001b[39m\u001b[39mtext.docx\u001b[39m\u001b[39m'\u001b[39m)\u001b[39m.\u001b[39mget_extracted_data()\n\u001b[0;32m     10\u001b[0m \u001b[39mexcept\u001b[39;00m:\n\u001b[1;32m---> 11\u001b[0m     data1 \u001b[39m=\u001b[39m ResumeParser(filed)\u001b[39m.\u001b[39mget_extracted_data()\n\u001b[0;32m     13\u001b[0m resume\u001b[39m=\u001b[39mdata1[\u001b[39m'\u001b[39m\u001b[39mskills\u001b[39m\u001b[39m'\u001b[39m]\n",
      "File \u001b[1;32mc:\\Users\\DooFromash\\miniconda3\\envs\\f5-nlp-v2\\lib\\site-packages\\pyresparser\\resume_parser.py:40\u001b[0m, in \u001b[0;36mResumeParser.__init__\u001b[1;34m(self, resume, skills_file, custom_regex)\u001b[0m\n\u001b[0;32m     38\u001b[0m \u001b[39mself\u001b[39m\u001b[39m.\u001b[39m__resume \u001b[39m=\u001b[39m resume\n\u001b[0;32m     39\u001b[0m \u001b[39mif\u001b[39;00m \u001b[39mnot\u001b[39;00m \u001b[39misinstance\u001b[39m(\u001b[39mself\u001b[39m\u001b[39m.\u001b[39m__resume, io\u001b[39m.\u001b[39mBytesIO):\n\u001b[1;32m---> 40\u001b[0m     ext \u001b[39m=\u001b[39m os\u001b[39m.\u001b[39;49mpath\u001b[39m.\u001b[39;49msplitext(\u001b[39mself\u001b[39;49m\u001b[39m.\u001b[39;49m__resume)[\u001b[39m1\u001b[39;49m]\u001b[39m.\u001b[39;49msplit(\u001b[39m'\u001b[39;49m\u001b[39m.\u001b[39;49m\u001b[39m'\u001b[39;49m)[\u001b[39m1\u001b[39;49m]\n\u001b[0;32m     41\u001b[0m \u001b[39melse\u001b[39;00m:\n\u001b[0;32m     42\u001b[0m     ext \u001b[39m=\u001b[39m \u001b[39mself\u001b[39m\u001b[39m.\u001b[39m__resume\u001b[39m.\u001b[39mname\u001b[39m.\u001b[39msplit(\u001b[39m'\u001b[39m\u001b[39m.\u001b[39m\u001b[39m'\u001b[39m)[\u001b[39m1\u001b[39m]\n",
      "\u001b[1;31mIndexError\u001b[0m: list index out of range"
     ]
    }
   ],
   "source": [
    "filed=input('specify the path of the resume (format(.txt, .docx and .pdf))==')\n",
    "\n",
    "try:\n",
    "    doc = Document()\n",
    "    with open(filed, 'r') as file:\n",
    "        doc.add_paragraph(file.read())\n",
    "    doc.save(\"text.docx\")\n",
    "    data1 = ResumeParser('text.docx').get_extracted_data()\n",
    "\n",
    "except:\n",
    "    data1 = ResumeParser(filed).get_extracted_data()\n",
    "    \n",
    "resume=data1['skills']"
   ]
  },
  {
   "cell_type": "code",
   "execution_count": 18,
   "metadata": {},
   "outputs": [
    {
     "name": "stdout",
     "output_type": "stream",
     "text": [
      "{'name': 'machine learning ia', 'email': 'javieringles73@gmail.com', 'mobile_number': None, 'skills': ['Windows', 'Sublime', 'Photoshop', 'Ux', 'Numpy', 'Linux', 'Javascript', 'Visual', 'Github', 'Mysql', 'Sketch', 'Editorial', 'Ubuntu', 'Jupyter', 'Wordpress', 'Indesign', 'Cms', 'Illustrator', 'Sql', 'Php', 'Python', 'Ecommerce', 'Ui', 'Matplotlib', 'Html5'], 'college_name': None, 'degree': None, 'designation': None, 'experience': None, 'company_names': None, 'no_of_pages': None, 'total_experience': 0}\n"
     ]
    }
   ],
   "source": [
    "print(resume)"
   ]
  }
 ],
 "metadata": {
  "kernelspec": {
   "display_name": "f5-nlp-v2",
   "language": "python",
   "name": "python3"
  },
  "language_info": {
   "codemirror_mode": {
    "name": "ipython",
    "version": 3
   },
   "file_extension": ".py",
   "mimetype": "text/x-python",
   "name": "python",
   "nbconvert_exporter": "python",
   "pygments_lexer": "ipython3",
   "version": "3.8.16"
  },
  "orig_nbformat": 4
 },
 "nbformat": 4,
 "nbformat_minor": 2
}
