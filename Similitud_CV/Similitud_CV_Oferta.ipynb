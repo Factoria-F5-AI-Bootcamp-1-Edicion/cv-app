{
 "cells": [
  {
   "cell_type": "code",
   "execution_count": 37,
   "id": "c323959f-80a6-4bf6-958f-a01c0b26fc66",
   "metadata": {},
   "outputs": [],
   "source": [
    "from pdfminer.high_level import extract_text\n",
    "import pandas as pd\n",
    "import string\n",
    "from nltk.corpus import stopwords\n",
    "from sklearn.feature_extraction.text import TfidfVectorizer\n",
    "from sklearn.metrics.pairwise import cosine_similarity"
   ]
  },
  {
   "cell_type": "code",
   "execution_count": 38,
   "id": "43bed7ee-5206-4009-ac6e-639b73bf9c20",
   "metadata": {},
   "outputs": [],
   "source": [
    "# Función para preprocesar texto\n",
    "def preprocess_text(text):\n",
    "    # Convertir todo a minúsculas\n",
    "    text = text.lower()\n",
    "    # Eliminar puntuación\n",
    "    text = text.translate(str.maketrans(\"\", \"\", string.punctuation))\n",
    "    # Eliminar stopwords\n",
    "    stop_words = set(stopwords.words(\"english\"))\n",
    "    words = text.split()\n",
    "    words = [word for word in words if word not in stop_words]\n",
    "    # Unir palabras de nuevo en una sola cadena\n",
    "    text = \" \".join(words)\n",
    "    return text\n"
   ]
  },
  {
   "cell_type": "code",
   "execution_count": 39,
   "id": "e8fff416-822a-4448-8bc8-ae5be3faaa39",
   "metadata": {},
   "outputs": [],
   "source": [
    "# Extraer texto del PDF\n",
    "pdf_path = \"CV_Kalash.pdf\"\n",
    "pdf_text = extract_text(pdf_path)"
   ]
  },
  {
   "cell_type": "code",
   "execution_count": 40,
   "id": "4665f0a6-71df-4fb6-b2eb-c9a34ae76fe5",
   "metadata": {},
   "outputs": [],
   "source": [
    "# Leer archivo CSV con oferta de empleo\n",
    "csv_path = \"output.csv\"\n",
    "df = pd.read_csv(csv_path)"
   ]
  },
  {
   "cell_type": "code",
   "execution_count": 41,
   "id": "ecef1063-b880-47b8-8b5c-c36cd0388c76",
   "metadata": {},
   "outputs": [],
   "source": [
    "# Preprocesar texto de ambas fuentes de datos\n",
    "pdf_text = preprocess_text(pdf_text)\n",
    "csv_text = preprocess_text(\" \".join(df.iloc[:, 0].tolist()))"
   ]
  },
  {
   "cell_type": "code",
   "execution_count": 42,
   "id": "c1466698-9b57-4e11-bef7-1d4168af16fc",
   "metadata": {},
   "outputs": [],
   "source": [
    "# Calcular similitud coseno\n",
    "vectorizer = TfidfVectorizer()\n",
    "tfidf = vectorizer.fit_transform([pdf_text, csv_text])\n",
    "similarity_score = cosine_similarity(tfidf)[0, 1]\n"
   ]
  },
  {
   "cell_type": "code",
   "execution_count": 43,
   "id": "b5011016-c2e1-4edd-9446-4cf22bf99b40",
   "metadata": {},
   "outputs": [
    {
     "name": "stdout",
     "output_type": "stream",
     "text": [
      "La similitud entre el texto del PDF y el archivo CSV es: 0.09793218795014397\n"
     ]
    }
   ],
   "source": [
    "print(\"La similitud entre el texto del PDF y el archivo CSV es:\", similarity_score)"
   ]
  },
  {
   "cell_type": "code",
   "execution_count": 30,
   "id": "3c3ce76d-98ef-47a3-bfac-d20a3cba5f25",
   "metadata": {},
   "outputs": [
    {
     "name": "stdout",
     "output_type": "stream",
     "text": [
      "La similitud entre el texto del PDF y el archivo CSV es: 0.09793218795014397\n"
     ]
    }
   ],
   "source": [
    "print(\"La similitud entre el texto del PDF y el archivo CSV es:\", similarity_score)"
   ]
  },
  {
   "cell_type": "code",
   "execution_count": null,
   "id": "eb500617-3f06-4926-80b1-0e07286f557a",
   "metadata": {},
   "outputs": [],
   "source": []
  }
 ],
 "metadata": {
  "kernelspec": {
   "display_name": "Python 3 (ipykernel)",
   "language": "python",
   "name": "python3"
  },
  "language_info": {
   "codemirror_mode": {
    "name": "ipython",
    "version": 3
   },
   "file_extension": ".py",
   "mimetype": "text/x-python",
   "name": "python",
   "nbconvert_exporter": "python",
   "pygments_lexer": "ipython3",
   "version": "3.10.9"
  }
 },
 "nbformat": 4,
 "nbformat_minor": 5
}
