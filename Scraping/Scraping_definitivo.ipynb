{
 "cells": [
  {
   "cell_type": "code",
   "execution_count": 58,
   "id": "3b84eb44-f0c0-4043-bd89-35a0ed314330",
   "metadata": {},
   "outputs": [],
   "source": [
    "import requests\n",
    "from bs4 import BeautifulSoup\n",
    "from bs4 import BeautifulSoup as bs\n",
    "import random\n",
    "import time\n",
    "import pandas as pd\n",
    "import numpy as mp\n",
    "from selenium import webdriver\n",
    "from selenium.webdriver.common.by import By\n",
    "from selenium.webdriver.common.keys import Keys\n",
    "import undetected_chromedriver as uc\n",
    "import time"
   ]
  },
  {
   "cell_type": "code",
   "execution_count": 59,
   "id": "3703b2f5-2eb6-4ff0-8b63-36f1ee97fbab",
   "metadata": {},
   "outputs": [
    {
     "name": "stdout",
     "output_type": "stream",
     "text": [
      "Requirement already satisfied: undetected-chromedriver in c:\\programdata\\miniconda3\\envs\\cv\\lib\\site-packages (3.4.6)\n",
      "Requirement already satisfied: selenium>=4.0.0 in c:\\programdata\\miniconda3\\envs\\cv\\lib\\site-packages (from undetected-chromedriver) (4.8.2)\n",
      "Requirement already satisfied: websockets in c:\\programdata\\miniconda3\\envs\\cv\\lib\\site-packages (from undetected-chromedriver) (10.4)\n",
      "Requirement already satisfied: requests in c:\\programdata\\miniconda3\\envs\\cv\\lib\\site-packages (from undetected-chromedriver) (2.28.1)\n",
      "Requirement already satisfied: trio-websocket~=0.9 in c:\\programdata\\miniconda3\\envs\\cv\\lib\\site-packages (from selenium>=4.0.0->undetected-chromedriver) (0.9.2)\n",
      "Requirement already satisfied: trio~=0.17 in c:\\programdata\\miniconda3\\envs\\cv\\lib\\site-packages (from selenium>=4.0.0->undetected-chromedriver) (0.22.0)\n",
      "Requirement already satisfied: urllib3[socks]~=1.26 in c:\\programdata\\miniconda3\\envs\\cv\\lib\\site-packages (from selenium>=4.0.0->undetected-chromedriver) (1.26.14)\n",
      "Requirement already satisfied: certifi>=2021.10.8 in c:\\programdata\\miniconda3\\envs\\cv\\lib\\site-packages (from selenium>=4.0.0->undetected-chromedriver) (2022.12.7)\n",
      "Requirement already satisfied: charset-normalizer<3,>=2 in c:\\programdata\\miniconda3\\envs\\cv\\lib\\site-packages (from requests->undetected-chromedriver) (2.0.4)\n",
      "Requirement already satisfied: idna<4,>=2.5 in c:\\programdata\\miniconda3\\envs\\cv\\lib\\site-packages (from requests->undetected-chromedriver) (3.4)\n",
      "Requirement already satisfied: sniffio in c:\\programdata\\miniconda3\\envs\\cv\\lib\\site-packages (from trio~=0.17->selenium>=4.0.0->undetected-chromedriver) (1.2.0)\n",
      "Requirement already satisfied: sortedcontainers in c:\\programdata\\miniconda3\\envs\\cv\\lib\\site-packages (from trio~=0.17->selenium>=4.0.0->undetected-chromedriver) (2.4.0)\n",
      "Requirement already satisfied: cffi>=1.14 in c:\\programdata\\miniconda3\\envs\\cv\\lib\\site-packages (from trio~=0.17->selenium>=4.0.0->undetected-chromedriver) (1.15.1)\n",
      "Requirement already satisfied: outcome in c:\\programdata\\miniconda3\\envs\\cv\\lib\\site-packages (from trio~=0.17->selenium>=4.0.0->undetected-chromedriver) (1.2.0)\n",
      "Requirement already satisfied: exceptiongroup>=1.0.0rc9 in c:\\programdata\\miniconda3\\envs\\cv\\lib\\site-packages (from trio~=0.17->selenium>=4.0.0->undetected-chromedriver) (1.1.0)\n",
      "Requirement already satisfied: attrs>=19.2.0 in c:\\programdata\\miniconda3\\envs\\cv\\lib\\site-packages (from trio~=0.17->selenium>=4.0.0->undetected-chromedriver) (22.1.0)\n",
      "Requirement already satisfied: async-generator>=1.9 in c:\\programdata\\miniconda3\\envs\\cv\\lib\\site-packages (from trio~=0.17->selenium>=4.0.0->undetected-chromedriver) (1.10)\n",
      "Requirement already satisfied: wsproto>=0.14 in c:\\programdata\\miniconda3\\envs\\cv\\lib\\site-packages (from trio-websocket~=0.9->selenium>=4.0.0->undetected-chromedriver) (1.2.0)\n",
      "Requirement already satisfied: PySocks!=1.5.7,<2.0,>=1.5.6 in c:\\programdata\\miniconda3\\envs\\cv\\lib\\site-packages (from urllib3[socks]~=1.26->selenium>=4.0.0->undetected-chromedriver) (1.7.1)\n",
      "Requirement already satisfied: pycparser in c:\\programdata\\miniconda3\\envs\\cv\\lib\\site-packages (from cffi>=1.14->trio~=0.17->selenium>=4.0.0->undetected-chromedriver) (2.21)\n",
      "Requirement already satisfied: h11<1,>=0.9.0 in c:\\programdata\\miniconda3\\envs\\cv\\lib\\site-packages (from wsproto>=0.14->trio-websocket~=0.9->selenium>=4.0.0->undetected-chromedriver) (0.14.0)\n"
     ]
    }
   ],
   "source": [
    "!pip install undetected-chromedriver"
   ]
  },
  {
   "cell_type": "markdown",
   "id": "a08406b6-ceae-4816-9bd8-3017a1d1f841",
   "metadata": {},
   "source": [
    "## URL DE INEED"
   ]
  },
  {
   "cell_type": "code",
   "execution_count": 60,
   "id": "d11d28de-73ea-4628-8e54-6d8bda9bcd40",
   "metadata": {},
   "outputs": [],
   "source": [
    "import undetected_chromedriver as uc\n",
    "\n",
    "browser = uc.Chrome()\n",
    "url = \"https://es.indeed.com/jobs?q=data+scientist&l=Espa%C3%B1a&pp=gQAAAAABht88qUsAAAAB_EmYagADAAABAAA&vjk=f0d6250b8d1c543e\"\n",
    "browser.get(url)\n",
    "browser.implicitly_wait(10)"
   ]
  },
  {
   "cell_type": "code",
   "execution_count": 61,
   "id": "7bb23abf-b860-4b48-b9d3-fc5ecc965bbf",
   "metadata": {},
   "outputs": [],
   "source": [
    "html = browser.page_source"
   ]
  },
  {
   "cell_type": "code",
   "execution_count": 22,
   "id": "28e01518-2edf-4dd4-9bfc-d94b8f10d3a5",
   "metadata": {},
   "outputs": [],
   "source": [
    "# send HTTP GET request to the job listing URL and get the HTML content\n",
    "response = requests.get(url)\n",
    "html_content = response.content"
   ]
  },
  {
   "cell_type": "code",
   "execution_count": 23,
   "id": "d0868850-8cab-438a-8b63-9c0c797ff9ae",
   "metadata": {},
   "outputs": [],
   "source": [
    "# Creamos el objeto BeautifulSoup\n",
    "soup = BeautifulSoup(response.text, 'html.parser')"
   ]
  },
  {
   "cell_type": "code",
   "execution_count": 24,
   "id": "052fe2b2-4650-4251-8ad8-360a6d1b2409",
   "metadata": {},
   "outputs": [],
   "source": [
    "# HTML de ejemplo\n",
    "html = '<a id=\"job_ac67d7d5b78575fe\" data-mobtk=\"1grg9n550kjgg800\" data-jk=\"ac67d7d5b78575fe\" data-hiring-event=\"false\" target=\"_blank\" data-hide-spinner=\"true\" role=\"button\" aria-label=\"detalles completos de Data Scientist\" class=\"jcs-JobTitle css-jspxzf eu4oa1w0\" href=\"/rc/clk?jk=ac67d7d5b78575fe&amp;fccid=cb681e6be51f58a0&amp;vjs=3\"><span title=\"Data Scientist\" id=\"jobTitle-ac67d7d5b78575fe\">Data Scientist</span></a>'\n",
    "\n",
    "#Creamos el objeto BeautifulSoup\n",
    "soup = BeautifulSoup(html, 'html.parser')"
   ]
  },
  {
   "cell_type": "code",
   "execution_count": 25,
   "id": "3099169b-c760-43e7-bcc8-1482ae40f117",
   "metadata": {},
   "outputs": [],
   "source": [
    "# Buscamos la etiqueta <a> con el id \"job_ac67d7d5b78575fe\"\n",
    "job_title_a = soup.find('a', {'id': 'job_ac67d7d5b78575fe'})"
   ]
  },
  {
   "cell_type": "code",
   "execution_count": 54,
   "id": "dc80b2d6-b8fd-4774-a038-aa644a561300",
   "metadata": {},
   "outputs": [],
   "source": [
    "# Extraemos el texto de la etiqueta <span> dentro de la etiqueta <a>\n",
    "job_title = job_title_a.find('span').text.strip()"
   ]
  },
  {
   "cell_type": "code",
   "execution_count": 55,
   "id": "e39dfaa4-ff4e-4d09-a4db-05315cbe5c0b",
   "metadata": {},
   "outputs": [
    {
     "name": "stdout",
     "output_type": "stream",
     "text": [
      "Data Scientist\n"
     ]
    }
   ],
   "source": [
    "# Imprimimos el título\n",
    "print(job_title)"
   ]
  },
  {
   "cell_type": "code",
   "execution_count": 28,
   "id": "1fe2ccb1-2a60-4505-8ab5-e44428b7bd30",
   "metadata": {},
   "outputs": [
    {
     "name": "stdout",
     "output_type": "stream",
     "text": [
      "Company name: Intelygenz\n",
      "Location: 28004 Madrid, Madrid provincia\n"
     ]
    }
   ],
   "source": [
    "html = '<div class=\"heading6 company_location tapItem-gutter companyInfo\"><span class=\"companyName\">Intelygenz</span><div class=\"companyLocation\">28004 Madrid, Madrid provincia</div></div>'\n",
    "\n",
    "soup = BeautifulSoup(html, 'html.parser')\n",
    "\n",
    "company_name = soup.find('span', {'class': 'companyName'}).text\n",
    "location = soup.find('div', {'class': 'companyLocation'}).text\n",
    "\n",
    "print(f\"Company name: {company_name}\")\n",
    "print(f\"Location: {location}\")"
   ]
  },
  {
   "cell_type": "code",
   "execution_count": 43,
   "id": "d56855ea-6fa0-4ca5-a34b-1e9b91e315c5",
   "metadata": {},
   "outputs": [
    {
     "name": "stdout",
     "output_type": "stream",
     "text": [
      "['Large experience in software projects beyond data science.', 'Minimum of two years experience in working on data-based projects.', 'Large experience with Python 3.']\n"
     ]
    }
   ],
   "source": [
    "html = '<table class=\"jobCardShelfContainer big6_visualChanges\" role=\"presentation\"><tbody><tr class=\"jobCardShelf\"></tr><tr class=\"underShelfFooter\"><td><div class=\"heading6 tapItem-gutter result-footer\"><div class=\"job-snippet\"><ul style=\"list-style-type:circle;margin-top: 0px;margin-bottom: 0px;padding-left:20px;\"> <li style=\"margin-bottom:0px;\">Large experience in software projects beyond <b>data</b> science.</li> <li style=\"margin-bottom:0px;\">Minimum of two years experience in working on data-based projects.</li> <li>Large experience with Python 3.</li></ul></div><span class=\"myJobsState\">Visitado hace 4 minutos</span></div></td></tr></tbody></table>'\n",
    "\n",
    "soup = BeautifulSoup(html, 'html.parser')\n",
    "\n",
    "#  Buscar el elemento de la lista desordenada que contiene la información sobre la experiencia\n",
    "experience_ul = soup.find('ul', {'style': 'list-style-type:circle;margin-top: 0px;margin-bottom: 0px;padding-left:20px;'})\n",
    "\n",
    "# Extract each list item's text and store it in a list\n",
    "experience_list = [li.text for li in experience_ul.find_all('li')]\n",
    "\n",
    "# Print the extracted experience list\n",
    "print(experience_list)"
   ]
  },
  {
   "cell_type": "code",
   "execution_count": 47,
   "id": "60808bc1-de1c-4d04-a19b-f2c2d829fbda",
   "metadata": {},
   "outputs": [
    {
     "name": "stdout",
     "output_type": "stream",
     "text": [
      "At Intelygenz, we envision a future where processes accelerate performance. For the companies we work with, this means finding ways to optimize their data using cutting-edge technologies like AI-enabled automation. This mindset is a huge part of our culture. We thrive on pooling our skills, collaborating on projects, helping one another learn and creating innovations.What are you going to do?As a data scientist at Intelygenz, your day-to-day work will be organized in two principal lines: Industry and Laboratory.At the Industry level, our main delivery is process automation. At this level, our artificial intelligence solutions are focused on automating processes to add business value to our customers. This approach is applied in many different business sectors from NLP-based projects and advanced computer vision to multi-domain anomaly detection. A crucial step in the industrial process is the deployment of production-ready environments, their monitoring and maintenance.On the other hand, the goal of our Laboratory is to research and test state-of-the-art techniques and solutions to keep improving our skills and to share with the community our knowledge and proof of concepts. Deep reinforcement learning, NLP revolutionary solutions (as Transformers or BERT) or Brain-Computer-Interface experiments are some examples of our active research lines.What will make you succeed in your role?️:Demonstrable knowledge of Mathematics and Statistics.Minimum of two years experience in working on data-based projects.Large experience with Python 3Experience with cleaning tools and techniques, and data pre-processing.Experience with libraries and frameworks like Numpy, Pandas, Scikit-learn, PyTorch/Tensorflow.Machine Learning knowledgeEnglish Professional Competency.Strong self-taught and proactivity capabilities.Problem-solving and autonomy when facing new challenges.Bonus Points:Have Computer Science backgroundMasters degree in Data Science or Artificial Intelligence.Experience applying state-of-the-art Artificial Intelligence techniques.Large experience in software projects beyond data science.\n"
     ]
    }
   ],
   "source": [
    "from bs4 import BeautifulSoup\n",
    "\n",
    "# HTML code\n",
    "html = \"\"\"\n",
    "<div id=\"jobDescriptionText\" class=\"jobsearch-jobDescriptionText\" dir=\"ltr\"><div>\n",
    " <p>At Intelygenz, we envision a future where processes accelerate performance. For the companies we work with, this means finding ways to optimize their data using cutting-edge technologies like AI-enabled automation. This mindset is a huge part of our culture. We thrive on pooling our skills, collaborating on projects, helping one another learn and creating innovations.</p>\n",
    " <p><b><br> What are you going to do?</b></p>\n",
    " <p> As a data scientist at Intelygenz, your day-to-day work will be organized in two principal lines: Industry and Laboratory.</p>\n",
    " <p> At the Industry level, our main delivery is process automation. At this level, our artificial intelligence solutions are focused on automating processes to add business value to our customers. This approach is applied in many different business sectors from NLP-based projects and advanced computer vision to multi-domain anomaly detection. A crucial step in the industrial process is the deployment of production-ready environments, their monitoring and maintenance.</p>\n",
    " <p> On the other hand, the goal of our Laboratory is to research and test state-of-the-art techniques and solutions to keep improving our skills and to share with the community our knowledge and proof of concepts. Deep reinforcement learning, NLP revolutionary solutions (as Transformers or BERT) or Brain-Computer-Interface experiments are some examples of our active research lines.</p>\n",
    " <br> \n",
    " <p><b>What will make you succeed in your role?️:</b></p>\n",
    " <ul> \n",
    "  <li> Demonstrable knowledge of Mathematics and Statistics.</li> \n",
    "  <li>Minimum of two years experience in working on data-based projects.</li> \n",
    "  <li>Large experience with Python 3</li> \n",
    "  <li>Experience with cleaning tools and techniques, and data pre-processing.</li> \n",
    "  <li>Experience with libraries and frameworks like Numpy, Pandas, Scikit-learn, PyTorch/Tensorflow.</li> \n",
    "  <li>Machine Learning knowledge</li> \n",
    "  <li>English Professional Competency.</li> \n",
    "  <li>Strong self-taught and proactivity capabilities.</li> \n",
    "  <li>Problem-solving and autonomy when facing new challenges.</li> \n",
    " </ul>\n",
    " <p><b> Bonus Points:</b></p>\n",
    " <ul> \n",
    "  <li> Have Computer Science background</li> \n",
    "  <li>Masters degree in Data Science or Artificial Intelligence.</li> \n",
    "  <li>Experience applying state-of-the-art Artificial Intelligence techniques.</li> \n",
    "  <li>Large experience in software projects beyond data science.</li>\n",
    " </ul>\n",
    "</div></div>\n",
    "\"\"\"\n",
    "# Encontrar el elemento HTML con la cabecera 'Descripción'\n",
    "header = soup.find('h2', text='Descripción')\n",
    "\n",
    "# Parsing HTML code with Beautiful Soup\n",
    "soup = BeautifulSoup(html, \"html.parser\")\n",
    "\n",
    "# Extracting job description text\n",
    "job_description = soup.find(\"div\", {\"id\": \"jobDescriptionText\"}).get_text(strip=True)\n",
    "\n",
    "print(job_description)\n"
   ]
  },
  {
   "cell_type": "code",
   "execution_count": 57,
   "id": "dbf264ae-9c80-4ae4-9627-ba7958f09c10",
   "metadata": {},
   "outputs": [],
   "source": [
    "import csv\n",
    "\n",
    "# Crear el diccionario con los datos que queremos guardar\n",
    "data = {\n",
    "    'job_title': job_title,\n",
    "    'company_name': company_name,\n",
    "    'location': location,\n",
    "    'experience_list': experience_list,\n",
    "    'job_description': job_description\n",
    "}\n",
    "\n",
    "# Escribir los datos en un archivo CSV\n",
    "with open('output.csv', mode='w', encoding='utf-8', newline='') as csvfile:\n",
    "    writer = csv.DictWriter(csvfile, fieldnames=data.keys())\n",
    "    writer.writeheader()\n",
    "    writer.writerow(data)"
   ]
  },
  {
   "cell_type": "code",
   "execution_count": null,
   "id": "61d16d6b-4803-451c-b122-37ceb0345c96",
   "metadata": {},
   "outputs": [],
   "source": []
  },
  {
   "cell_type": "code",
   "execution_count": null,
   "id": "38c62849-dae0-4b82-a0de-d80dd04b9b3c",
   "metadata": {},
   "outputs": [],
   "source": []
  }
 ],
 "metadata": {
  "kernelspec": {
   "display_name": "Python 3 (ipykernel)",
   "language": "python",
   "name": "python3"
  },
  "language_info": {
   "codemirror_mode": {
    "name": "ipython",
    "version": 3
   },
   "file_extension": ".py",
   "mimetype": "text/x-python",
   "name": "python",
   "nbconvert_exporter": "python",
   "pygments_lexer": "ipython3",
   "version": "3.10.9"
  }
 },
 "nbformat": 4,
 "nbformat_minor": 5
}
