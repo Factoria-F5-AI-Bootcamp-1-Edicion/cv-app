{
 "cells": [
  {
   "cell_type": "code",
   "execution_count": 36,
   "id": "916594a3-9140-46cc-8e0b-e536eb5432ae",
   "metadata": {},
   "outputs": [],
   "source": [
    "import csv\n",
    "import time\n",
    "from bs4 import BeautifulSoup as bs\n",
    "from selenium import webdriver\n",
    "from selenium.webdriver.common.by import By\n",
    "from selenium.webdriver.support.ui import WebDriverWait\n",
    "from selenium.webdriver.support import expected_conditions as EC\n",
    "import undetected_chromedriver as uc\n",
    "import requests\n",
    "from bs4 import BeautifulSoup\n",
    "import locale\n",
    "locale.setlocale(locale.LC_ALL, 'es_ES.utf8')\n",
    "\n",
    "\n",
    "# Lista de URLs de ofertas de empleo en una página de Infojobs\n",
    "lista_de_urls = ['https://www.infojobs.net/ofertas-trabajo?keyword=Full%20Stack&normalizedJobTitleIds=2512_f2b15a0e-e65a-438a-affb-29b9d50b77d1&provinceIds=&cityIds=&teleworkingIds=&categoryIds=&workdayIds=&educationIds=&segmentId=&contractTypeIds=&page=1&sortBy=RELEVANCE&onlyForeignCountry=false&countryIds=&sinceDate=ANY&subcategoryIds=']\n",
    "\n",
    "# Bucle para iterar a través de todas las URLs de ofertas de empleo\n",
    "for url in lista_de_urls:\n",
    "    # Realizar una petición HTTP GET a la URL de la oferta de empleo\n",
    "    response = requests.get(url)\n",
    "    # Crear un objeto BeautifulSoup con el contenido HTML de la respuesta\n",
    "    soup = BeautifulSoup(response.text, 'html.parser')\n",
    "    # Extraer los datos que necesitas utilizando BeautifulSoup\n",
    "    ofertas = soup.find_all('h2', {'class': 'ij-OfferCardContent-description-title'})\n",
    "    for oferta in ofertas:\n",
    "        enlaces = oferta.find_all('a')\n",
    "        for enlace in enlaces:\n",
    "            print(enlace.get_text())\n",
    "            print(enlace.get('href'))"
   ]
  },
  {
   "cell_type": "code",
   "execution_count": 37,
   "id": "e39c14a6-59ed-42c1-93c7-051458f67f41",
   "metadata": {},
   "outputs": [],
   "source": [
    "# URL de oferta empleo Infojobs\n",
    "browser = webdriver.Chrome()\n",
    "url = \"https://www.infojobs.net/madrid/programador-full-stack-mantenimiento/of-ia0c58f7f2f42f989df0c3639cf8eb3?applicationOrigin=search-new%7Cversion%7Ebackpack_sorted_no_norm&page=1&sortBy=RELEVANCE\"\n",
    "browser.get(url)"
   ]
  },
  {
   "cell_type": "code",
   "execution_count": 38,
   "id": "b3c82332-e84e-4f28-8a52-01cb5be0fc6c",
   "metadata": {},
   "outputs": [],
   "source": [
    "# Espera hasta que el elemento especificado esté presente en la página\n",
    "elemento = WebDriverWait(browser, 20).until(\n",
    "    EC.presence_of_element_located((By.ID, \"prefijoPuesto\"))\n",
    ")"
   ]
  },
  {
   "cell_type": "code",
   "execution_count": 39,
   "id": "3c949d71-12b6-4e8b-b597-f42097c7a38a",
   "metadata": {},
   "outputs": [],
   "source": [
    "# Sacamos el HTML de la página\n",
    "html = browser.page_source\n",
    "soup = bs(html, 'lxml')"
   ]
  },
  {
   "cell_type": "code",
   "execution_count": 40,
   "id": "bcebb3f6-ad77-4527-90c5-aa61bffc2e39",
   "metadata": {},
   "outputs": [
    {
     "name": "stdout",
     "output_type": "stream",
     "text": [
      "Programador Full Stack Mantenimiento\n"
     ]
    }
   ],
   "source": [
    "# Extraemos el título de la oferta de empleo\n",
    "titulo = soup.find('h1', {'id': 'prefijoPuesto', 'class': 'text-hyphen'}).text\n",
    "print(titulo)"
   ]
  },
  {
   "cell_type": "code",
   "execution_count": 41,
   "id": "cc7de51a-26ae-402d-a9ab-f96758788528",
   "metadata": {},
   "outputs": [
    {
     "name": "stdout",
     "output_type": "stream",
     "text": [
      "Madrid \n"
     ]
    }
   ],
   "source": [
    "# Extraemos la ubicación de la oferta de empleo\n",
    "localizacion = soup.find('span', {'id': 'prefijoPoblacion'}).text.replace(',', '')\n",
    "print(localizacion)"
   ]
  },
  {
   "cell_type": "code",
   "execution_count": 42,
   "id": "352447fb-8acb-4756-be03-7d3fbecfe5d1",
   "metadata": {},
   "outputs": [
    {
     "name": "stdout",
     "output_type": "stream",
     "text": [
      "Híbrido\n"
     ]
    }
   ],
   "source": [
    "# Encontrar el elemento utilizando el selector CSS para el elemento Hibrido \n",
    "elemento = soup.select_one('#main-wrapper > div > div.container.container-slotbanner > div:nth-child(3) > div.panel-canvas.panel-rounded > div:nth-child(2) > div > div.col-8.col-6-medium > div > div > div:nth-child(1) > div > ul > li:nth-child(2) > span')\n",
    "modalidad_empleo = elemento.text\n",
    "print(elemento.text)\n",
    "browser.quit()"
   ]
  },
  {
   "cell_type": "code",
   "execution_count": 43,
   "id": "4e7be5c4-8c6e-4e02-83ec-4ea2a28ec724",
   "metadata": {},
   "outputs": [
    {
     "name": "stdout",
     "output_type": "stream",
     "text": [
      "Ciclo Formativo Grado Superior - Técnico Superior en Desarrollo de Aplicaciones Multiplataforma\n"
     ]
    }
   ],
   "source": [
    "# Extraemos estudios minimos\n",
    "estudios_mini = soup.find('span', {'id': 'prefijoEstMin'}).text\n",
    "print(estudios_mini)"
   ]
  },
  {
   "cell_type": "code",
   "execution_count": 44,
   "id": "a382c823-cb51-430f-ae1c-0cc05d1d61a9",
   "metadata": {},
   "outputs": [
    {
     "name": "stdout",
     "output_type": "stream",
     "text": [
      "Al menos 3 años\n"
     ]
    }
   ],
   "source": [
    "# Busca el elemento h3 con el texto \"Experiencia mínima\"\n",
    "h3 = soup.find('h3', text='Experiencia mínima')\n",
    "experiencia_minima = h3.find_next_sibling('span').text\n",
    "print(experiencia_minima)"
   ]
  },
  {
   "cell_type": "code",
   "execution_count": 45,
   "id": "7720e865-409a-4953-b5e9-34bb703bad80",
   "metadata": {},
   "outputs": [
    {
     "name": "stdout",
     "output_type": "stream",
     "text": [
      "Java, JavaScript, Mantenimiento aplicaciones, Software, Agile\n"
     ]
    }
   ],
   "source": [
    "# Busca el elemento h3 con el texto \"Conocimientos necesarios\"\n",
    "h3 = soup.find('h3', text='Conocimientos necesarios')\n",
    "ul = h3.find_next_sibling('ul')\n",
    "conocimientos = ul.find_all('a')\n",
    "conocimientos_necesarios = ', '.join([conocimiento.text for conocimiento in conocimientos])\n",
    "print(conocimientos_necesarios)"
   ]
  },
  {
   "cell_type": "code",
   "execution_count": 46,
   "id": "3ee9ffc9-60f8-44ba-83e2-727946e6000e",
   "metadata": {},
   "outputs": [
    {
     "name": "stdout",
     "output_type": "stream",
     "text": [
      "Tipo de contrato: indefinido, jornada completa\n"
     ]
    }
   ],
   "source": [
    "# Extraemos Tipo de contrato\n",
    "tipo_contrato = soup.find('span', {'id': 'prefijoJornada'}).text\n",
    "print(tipo_contrato)"
   ]
  },
  {
   "cell_type": "code",
   "execution_count": 47,
   "id": "5016d5c4-7ef8-49db-84aa-54e7b4a69a02",
   "metadata": {},
   "outputs": [
    {
     "name": "stdout",
     "output_type": "stream",
     "text": [
      "Salario no disponible\n"
     ]
    }
   ],
   "source": [
    "# Busca el elemento h3 con el texto \"Salario\"\n",
    "h3 = soup.find('h3', text='Salario')\n",
    "salario = h3.find_next_sibling('span').text\n",
    "print(salario)"
   ]
  },
  {
   "cell_type": "code",
   "execution_count": 48,
   "id": "ba9c5d21-9b5f-468a-aee5-4205c6cf65c7",
   "metadata": {},
   "outputs": [
    {
     "name": "stdout",
     "output_type": "stream",
     "text": [
      "Porcentaje sobre objetivos, Flexibilidad horaria, Teletrabajo, Teléfono móvil, Seguro médico, Cheque restaurante\n"
     ]
    }
   ],
   "source": [
    "# Busca el elemento h3 con el texto \"Beneficios sociales\"\n",
    "h3 = soup.find('h3', text='Beneficios sociales')\n",
    "spans = h3.find_next_siblings('span')\n",
    "beneficios_sociales = ', '.join([span.text for span in spans])\n",
    "print(beneficios_sociales)"
   ]
  },
  {
   "cell_type": "code",
   "execution_count": 49,
   "id": "5d93d2b2-85c2-44c0-be64-6deeaf24ee01",
   "metadata": {},
   "outputs": [],
   "source": [
    "# Crea un archivo CSV y escribe la primera fila con los títulos de columna\n",
    "with open('infojobs.csv', mode='w', newline='', encoding='utf-8') as file:\n",
    "    writer = csv.writer(file)\n",
    "    writer.writerow(['Título', 'Localización', 'Híbrido', 'Estudios mínimos', 'Experiencia mínima', 'Conocimientos necesarios', 'Tipo de contrato', 'Salario', 'Beneficios sociales'])\n",
    "    \n",
    "    # Escribe una fila con los datos extraídos\n",
    "    writer.writerow([titulo, localizacion, modalidad_empleo, estudios_mini, experiencia_minima, conocimientos_necesarios, tipo_contrato, salario, beneficios_sociales])"
   ]
  },
  {
   "cell_type": "markdown",
   "id": "5dbe2aaf-d571-4985-8f7f-b5d09582b351",
   "metadata": {},
   "source": [
    "## EXTRAER MAS DATOS PARA MAS OFERTAS"
   ]
  },
  {
   "cell_type": "code",
   "execution_count": 50,
   "id": "c997203c-ea4e-4cdf-b37d-a0f2a0dca48c",
   "metadata": {},
   "outputs": [],
   "source": [
    "url_grande = 'https://www.infojobs.net/ofertas-trabajo?keyword=Full%20Stack&normalizedJobTitleIds=2512_f2b15a0e-e65a-438a-affb-29b9d50b77d1&provinceIds=&cityIds=&teleworkingIds=&categoryIds=&workdayIds=&educationIds=&segmentId=&contractTypeIds=&page=1&sortBy=RELEVANCE&onlyForeignCountry=false&countryIds=&sinceDate=ANY&subcategoryIds='\n",
    "browser = uc.Chrome()\n",
    "browser.get(url_grande)"
   ]
  },
  {
   "cell_type": "code",
   "execution_count": 51,
   "id": "e7e546bd-e7b4-4e5f-9579-ba99d417b43c",
   "metadata": {},
   "outputs": [],
   "source": [
    "html = browser.page_source\n",
    "soup = bs(html, 'lxml')\n",
    "# soup"
   ]
  },
  {
   "cell_type": "code",
   "execution_count": 52,
   "id": "5be588f1-3acb-480e-9a7e-a3dace2c4e43",
   "metadata": {},
   "outputs": [],
   "source": [
    "# Espera a que se cargue el contenido dinámico\n",
    "time.sleep(20)"
   ]
  },
  {
   "cell_type": "code",
   "execution_count": 53,
   "id": "493015b6-b357-4fdd-a6b0-eaef07d14ce1",
   "metadata": {},
   "outputs": [
    {
     "name": "stdout",
     "output_type": "stream",
     "text": [
      "Full Stack Leader\n",
      "//www.infojobs.net/malaga/full-stack-leader/of-i21b90c7a48417382a4987659b2cc21?applicationOrigin=search-new%7Cversion%7Ebackpack_sorted_no_norm&page=1&sortBy=RELEVANCE\n",
      "Programador Frontend Full-Stack\n",
      "//www.infojobs.net/martorell/programador-frontend-full-stack/of-i50d128bddf4c08a4ab77bb23c6434d?applicationOrigin=search-new%7Cversion%7Ebackpack_sorted_no_norm&page=1&sortBy=RELEVANCE\n",
      "Full-Stack Developer\n",
      "//www.infojobs.net/madrid/full-stack-developer/of-i3933ca67fe4c04a25423788cca16bc?applicationOrigin=search-new%7Cversion%7Ebackpack_sorted_no_norm&page=1&sortBy=RELEVANCE\n",
      "DESARROLLADOR FULL STACK EN C# y PHP\n",
      "//www.infojobs.net/madrid/desarrollador-full-stack-c-php/of-i90274e612647c58409a891565009ea?applicationOrigin=search-new%7Cversion%7Ebackpack_sorted_no_norm&page=1&sortBy=RELEVANCE\n",
      "Full stack developer IT\n",
      "//www.infojobs.net/el-prat-de-llobregat/full-stack-developer-it/of-i045225226a4c9a804f3068228bfac5?applicationOrigin=search-new%7Cversion%7Ebackpack_sorted_no_norm&page=1&sortBy=RELEVANCE\n",
      "5\n"
     ]
    }
   ],
   "source": [
    "ofertas = soup.find_all('h2', {'class': 'ij-OfferCardContent-description-title'})\n",
    "count = 0\n",
    "for oferta in ofertas:\n",
    "    enlaces = oferta.find_all('a')\n",
    "    for enlace in enlaces:\n",
    "        if count < 10:\n",
    "            print(enlace.get_text())\n",
    "            print(enlace.get('href'))\n",
    "            count += 1\n",
    "        else:\n",
    "            break\n",
    "print(count)"
   ]
  },
  {
   "cell_type": "code",
   "execution_count": 54,
   "id": "c1a9c554-8daf-4148-ae70-89d71f630c4f",
   "metadata": {},
   "outputs": [
    {
     "name": "stdout",
     "output_type": "stream",
     "text": [
      "Full Stack Leader\n",
      "//www.infojobs.net/malaga/full-stack-leader/of-i21b90c7a48417382a4987659b2cc21?applicationOrigin=search-new%7Cversion%7Ebackpack_sorted_no_norm&page=1&sortBy=RELEVANCE\n",
      "Programador Frontend Full-Stack\n",
      "//www.infojobs.net/martorell/programador-frontend-full-stack/of-i50d128bddf4c08a4ab77bb23c6434d?applicationOrigin=search-new%7Cversion%7Ebackpack_sorted_no_norm&page=1&sortBy=RELEVANCE\n",
      "Full-Stack Developer\n",
      "//www.infojobs.net/madrid/full-stack-developer/of-i3933ca67fe4c04a25423788cca16bc?applicationOrigin=search-new%7Cversion%7Ebackpack_sorted_no_norm&page=1&sortBy=RELEVANCE\n",
      "DESARROLLADOR FULL STACK EN C# y PHP\n",
      "//www.infojobs.net/madrid/desarrollador-full-stack-c-php/of-i90274e612647c58409a891565009ea?applicationOrigin=search-new%7Cversion%7Ebackpack_sorted_no_norm&page=1&sortBy=RELEVANCE\n",
      "Full stack developer IT\n",
      "//www.infojobs.net/el-prat-de-llobregat/full-stack-developer-it/of-i045225226a4c9a804f3068228bfac5?applicationOrigin=search-new%7Cversion%7Ebackpack_sorted_no_norm&page=1&sortBy=RELEVANCE\n"
     ]
    }
   ],
   "source": [
    "ofertas = soup.find_all('h2', {'class': 'ij-OfferCardContent-description-title'})\n",
    "for oferta in ofertas:\n",
    "    enlaces = oferta.find_all('a')\n",
    "    for enlace in enlaces:\n",
    "        print(enlace.get_text())\n",
    "        print(enlace.get('href'))"
   ]
  },
  {
   "cell_type": "code",
   "execution_count": 55,
   "id": "748f9620-80c1-4789-a5fc-e1051e0777a6",
   "metadata": {},
   "outputs": [
    {
     "name": "stdout",
     "output_type": "stream",
     "text": [
      "Full Stack Leader\n",
      "Programador Frontend Full-Stack\n",
      "Full-Stack Developer\n",
      "DESARROLLADOR FULL STACK EN C# y PHP\n",
      "Full stack developer IT\n",
      "['Full Stack Leader', 'Programador Frontend Full-Stack', 'Full-Stack Developer', 'DESARROLLADOR FULL STACK EN C# y PHP', 'Full stack developer IT']\n"
     ]
    }
   ],
   "source": [
    "ofertas = soup.find_all('h2', {'class': 'ij-OfferCardContent-description-title'})\n",
    "titulos = []\n",
    "for oferta in ofertas:\n",
    "    enlaces = oferta.find_all('a')\n",
    "    for enlace in enlaces:\n",
    "        titulos.append(enlace.text)\n",
    "        print(enlace.text)\n",
    "\n",
    "print(titulos)"
   ]
  },
  {
   "cell_type": "code",
   "execution_count": 56,
   "id": "38adcc83-fbd0-4821-8440-6fb6ea5fa7b6",
   "metadata": {},
   "outputs": [
    {
     "name": "stdout",
     "output_type": "stream",
     "text": [
      "Málaga\n",
      "Martorell\n",
      "Madrid\n",
      "Madrid\n",
      "El Prat de Llobregat\n"
     ]
    }
   ],
   "source": [
    "ubicaciones = soup.find_all('ul', {'class': 'ij-OfferCardContent-description-list'})\n",
    "for ubicacion in ubicaciones:\n",
    "    spans = ubicacion.find_all('span', {'class': 'ij-OfferCardContent-description-list-item-truncate'})\n",
    "    for span in spans:\n",
    "        print(span.text)"
   ]
  },
  {
   "cell_type": "code",
   "execution_count": 57,
   "id": "30db510a-cd2f-48c6-94b3-67338f2b0050",
   "metadata": {},
   "outputs": [],
   "source": [
    "import csv\n",
    "\n",
    "ofertas = soup.find_all('h2', {'class': 'ij-OfferCardContent-description-title'})\n",
    "titulos = []\n",
    "enlaces = []\n",
    "for oferta in ofertas:\n",
    "    links = oferta.find_all('a')\n",
    "    for link in links:\n",
    "        titulos.append(link.text)\n",
    "        enlaces.append(link.get('href'))\n",
    "\n",
    "ubicaciones = soup.find_all('ul', {'class': 'ij-OfferCardContent-description-list'})\n",
    "lugares = []\n",
    "for ubicacion in ubicaciones:\n",
    "    spans = ubicacion.find_all('span', {'class': 'ij-OfferCardContent-description-list-item-truncate'})\n",
    "    for span in spans:\n",
    "        lugares.append(span.text)\n",
    "\n",
    "with open('datos_ofertas.csv', mode='w', newline='') as file:\n",
    "    writer = csv.writer(file)\n",
    "    writer.writerow(['Título', 'Enlace', 'Ubicación'])\n",
    "    for i in range(len(titulos)):\n",
    "        writer.writerow([titulos[i], enlaces[i], lugares[i]])\n"
   ]
  },
  {
   "cell_type": "code",
   "execution_count": 58,
   "id": "f7ab34b5-60e5-4602-a438-4904652867af",
   "metadata": {},
   "outputs": [
    {
     "name": "stdout",
     "output_type": "stream",
     "text": [
      "Full Stack Leader\n",
      "Programador Frontend Full-Stack\n",
      "Full-Stack Developer\n",
      "DESARROLLADOR FULL STACK EN C# y PHP\n",
      "Full stack developer IT\n"
     ]
    }
   ],
   "source": [
    "ofertas = soup.find_all('h2', {'class': 'ij-OfferCardContent-description-title'})\n",
    "\n",
    "for oferta in ofertas:\n",
    "    enlaces = oferta.find_all('a')\n",
    "    for enlace in enlaces:\n",
    "        print(enlace.get_text())\n",
    "        enlace_href = enlace.get('href')\n",
    "        enlace_div = soup.select_one(f'a[href=\"{enlace_href}\"] div.ij-OfferCard')\n",
    "        if enlace_div is not None:\n",
    "            xpath = soup.body.find_all(recursive=False).index(enlace_div.find_parent())\n",
    "            print(f'XPath: /{\"/*\".join(str(x) for x in xpath)}')"
   ]
  },
  {
   "cell_type": "code",
   "execution_count": null,
   "id": "3a21e8c1-0f77-4967-a786-562ad85fdd5b",
   "metadata": {},
   "outputs": [],
   "source": []
  }
 ],
 "metadata": {
  "kernelspec": {
   "display_name": "Python 3 (ipykernel)",
   "language": "python",
   "name": "python3"
  },
  "language_info": {
   "codemirror_mode": {
    "name": "ipython",
    "version": 3
   },
   "file_extension": ".py",
   "mimetype": "text/x-python",
   "name": "python",
   "nbconvert_exporter": "python",
   "pygments_lexer": "ipython3",
   "version": "3.10.9"
  }
 },
 "nbformat": 4,
 "nbformat_minor": 5
}
