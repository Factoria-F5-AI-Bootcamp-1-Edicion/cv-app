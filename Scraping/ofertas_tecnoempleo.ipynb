{
 "cells": [
  {
   "cell_type": "markdown",
   "id": "ce055404-b102-4983-b04d-ec6eb07aef7e",
   "metadata": {},
   "source": [
    "### SCRAPING DE OFERTAS DE EMPLEO EN TECNOEMPLEO"
   ]
  },
  {
   "cell_type": "markdown",
   "id": "bf9e0b98-d5a5-48c0-a9b4-f9a68e3bf11f",
   "metadata": {},
   "source": [
    "#### Importamos Librerias"
   ]
  },
  {
   "cell_type": "code",
   "execution_count": 15,
   "id": "cad5d886-e393-475f-bc2d-4fc90b170122",
   "metadata": {
    "tags": []
   },
   "outputs": [],
   "source": [
    "from selenium import webdriver\n",
    "from selenium.webdriver.common.by import By\n",
    "from selenium.webdriver.support.ui import WebDriverWait\n",
    "from selenium.webdriver.support import expected_conditions as EC\n",
    "from bs4 import BeautifulSoup\n",
    "import requests\n",
    "import csv"
   ]
  },
  {
   "cell_type": "markdown",
   "id": "dbd7438a-1763-41a8-8f30-d0e3b3d7a99a",
   "metadata": {},
   "source": [
    "#### Configuración del navegador"
   ]
  },
  {
   "cell_type": "code",
   "execution_count": 16,
   "id": "2b06a210-ab1a-4eb8-a311-7ef806b60291",
   "metadata": {},
   "outputs": [],
   "source": [
    "options = webdriver.ChromeOptions()\n",
    "options.add_argument('--start-maximized')\n",
    "browser = webdriver.Chrome(options=options)"
   ]
  },
  {
   "cell_type": "markdown",
   "id": "a434160c-58a1-4d85-b2b0-13a97a2015ad",
   "metadata": {},
   "source": [
    "#### Navegamos a la página de Tecnoempleo"
   ]
  },
  {
   "cell_type": "code",
   "execution_count": 17,
   "id": "39eeba0b-7f04-4f49-b572-0e2b4ea564aa",
   "metadata": {},
   "outputs": [],
   "source": [
    "url = 'https://www.tecnoempleo.com/ofertas-trabajo/?te=full+stack&pr='\n",
    "browser.get(url)"
   ]
  },
  {
   "cell_type": "markdown",
   "id": "0f99e7af-63ae-4c4d-b282-04b22cedf1bb",
   "metadata": {},
   "source": [
    "#### Obtenemos una lista de elementos que representan los títulos de cada oferta en la página"
   ]
  },
  {
   "cell_type": "code",
   "execution_count": 18,
   "id": "4371a913-b568-4eaa-96e9-c596e47de04d",
   "metadata": {},
   "outputs": [],
   "source": [
    "titulos = browser.find_elements(By.CSS_SELECTOR, '.css-jspxzf')\n",
    "\n",
    "# Iteramos sobre cada elemento para extraer su texto\n",
    "for titulo in titulos:\n",
    "    print(titulo.text)"
   ]
  },
  {
   "cell_type": "markdown",
   "id": "44282e67-be08-4efc-8a51-7da2b1aef7ef",
   "metadata": {
    "tags": []
   },
   "source": [
    "#### Extraemos los titulos de empleo, empresas, descripción de la oferta, ubicación..."
   ]
  },
  {
   "cell_type": "code",
   "execution_count": 22,
   "id": "292da49a-4111-44c5-af3b-1f4464df54ca",
   "metadata": {},
   "outputs": [],
   "source": [
    "url = 'https://www.tecnoempleo.com/ofertas-trabajo/?te=full+stack&pr='\n",
    "page = requests.get(url)\n",
    "soup = BeautifulSoup(page.content, 'html.parser')\n",
    "\n",
    "titulos = soup.select('.text-gray-700.link-muted')\n",
    "lista_titulos = [titulo.text.strip() for titulo in titulos]\n",
    "\n",
    "empresas = soup.select('.col-lg-7 .text-primary')\n",
    "lista_empresas = [empresa.text.strip() for empresa in empresas]\n",
    "\n",
    "descripciones = soup.select('.text-gray-800')\n",
    "lista_descripciones = [descripcion.text.replace('\\r', '').replace('\\n', '').replace('\\t', '').strip() for descripcion in descripciones]\n",
    "\n",
    "ubicaciones = soup.select('.link-muted b')\n",
    "lista_ubicaciones = [ubicacion.text.strip() for ubicacion in ubicaciones]\n",
    "\n",
    "modos_de_trabajo = soup.select('.hidden-md-down b')\n",
    "lista_modos_de_trabajo = [modo_de_trabajo.text.strip() for modo_de_trabajo in modos_de_trabajo]\n",
    "\n",
    "# Si queremos mostrar los títulos y las empresas más tarde, podemos descomentar las siguientes líneas\n",
    "#print(lista_titulos)\n",
    "#print(lista_empresas)\n",
    "#print(lista_descripciones)\n",
    "#print(lista_ubicaciones)\n",
    "#print(lista_modos_de_trabajo)"
   ]
  },
  {
   "cell_type": "markdown",
   "id": "f6f0bc72-3319-42ca-836b-edafad0445b4",
   "metadata": {},
   "source": [
    "#### Guardamos los datos en un CSV"
   ]
  },
  {
   "cell_type": "code",
   "execution_count": 21,
   "id": "89d18fff-1449-471e-b330-4c57547a19f4",
   "metadata": {},
   "outputs": [],
   "source": [
    "with open('ofertas_tecnoempleo.csv', mode='w', newline='', encoding='utf-8') as file:\n",
    "    writer = csv.writer(file)\n",
    "    writer.writerow(['Título', 'Empresa', 'Descripción', 'Ubicación', 'Modo de trabajo'])\n",
    "    for titulo, empresa, descripcion, ubicacion, modo_de_trabajo in zip(lista_titulos, lista_empresas, lista_descripciones, lista_ubicaciones, lista_modos_de_trabajo):\n",
    "        writer.writerow([titulo, empresa, descripcion, ubicacion, modo_de_trabajo])"
   ]
  },
  {
   "cell_type": "markdown",
   "id": "73fb55f8-207c-4aef-bc11-3cbb604fcecb",
   "metadata": {},
   "source": [
    "#### Cerramos el navegador automáticamente\n"
   ]
  },
  {
   "cell_type": "code",
   "execution_count": 14,
   "id": "6890c1dc-ac84-4b4c-8fd4-2d9aa7d3709d",
   "metadata": {
    "tags": []
   },
   "outputs": [],
   "source": [
    "browser.quit()"
   ]
  },
  {
   "cell_type": "code",
   "execution_count": null,
   "id": "0c07ed89-cafd-4f41-96d9-b1f31185ed3d",
   "metadata": {},
   "outputs": [],
   "source": []
  }
 ],
 "metadata": {
  "kernelspec": {
   "display_name": "Python 3 (ipykernel)",
   "language": "python",
   "name": "python3"
  },
  "language_info": {
   "codemirror_mode": {
    "name": "ipython",
    "version": 3
   },
   "file_extension": ".py",
   "mimetype": "text/x-python",
   "name": "python",
   "nbconvert_exporter": "python",
   "pygments_lexer": "ipython3",
   "version": "3.10.9"
  }
 },
 "nbformat": 4,
 "nbformat_minor": 5
}
