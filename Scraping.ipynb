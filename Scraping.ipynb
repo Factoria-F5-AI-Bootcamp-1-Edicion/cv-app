{
 "cells": [
  {
   "cell_type": "code",
   "execution_count": null,
   "id": "d0797a26-0172-4e19-9bb7-0ff775839a6a",
   "metadata": {},
   "outputs": [],
   "source": [
    "## Importar las bibliotecas necesarias:"
   ]
  },
  {
   "cell_type": "code",
   "execution_count": null,
   "id": "24684bb8-5a0e-41a1-a876-51c598be9924",
   "metadata": {},
   "outputs": [],
   "source": [
    "import csv\n",
    "import requests\n",
    "from bs4 import BeautifulSoup\n",
    "from selenium import webdriver\n",
    "from bs4 import BeautifulSoup\n",
    "import time\n",
    "import pandas as pd"
   ]
  },
  {
   "cell_type": "code",
   "execution_count": null,
   "id": "656bb1bd-989f-419e-94ae-16d4aa982f6a",
   "metadata": {
    "jupyter": {
     "source_hidden": true
    },
    "tags": []
   },
   "outputs": [],
   "source": [
    "!pip install selenium"
   ]
  },
  {
   "cell_type": "code",
   "execution_count": null,
   "id": "26cdcda9-7d5d-497e-ade5-7f614046b232",
   "metadata": {},
   "outputs": [],
   "source": [
    "# Realizar la solicitud GET para obtener el HTML de la página de búsqueda de empleo en Indeed:"
   ]
  },
  {
   "cell_type": "code",
   "execution_count": null,
   "id": "4a32b6be-694a-498b-a12d-6acc0df5dd1e",
   "metadata": {},
   "outputs": [],
   "source": [
    "url = \"https://es.indeed.com/jobs?q=data+scientist&l=Madrid&vjk=b56097b33ca66865\"\n",
    "response = requests.get(url)\n",
    "\n",
    "soup = BeautifulSoup(response.content, \"html.parser\")"
   ]
  },
  {
   "cell_type": "code",
   "execution_count": null,
   "id": "d5fadccc-1ea5-4738-a745-55f515fbd507",
   "metadata": {},
   "outputs": [],
   "source": [
    "# Encuentra todos los elementos <div> que contienen información sobre cada oferta de trabajo\n",
    "jobs = soup.find_all(\"div\", class_=\"jobsearch-SerpJobCard\")"
   ]
  },
  {
   "cell_type": "code",
   "execution_count": null,
   "id": "b70fc14d-b85e-4969-a534-29d9d8bbbb94",
   "metadata": {},
   "outputs": [],
   "source": [
    "# Crea una lista vacía para almacenar la información de cada trabajo\n",
    "job_list = []"
   ]
  },
  {
   "cell_type": "code",
   "execution_count": null,
   "id": "02b1b8c2-46de-4f67-ad17-e9b6f14d715b",
   "metadata": {},
   "outputs": [],
   "source": [
    "# En este ejemplo, se está realizando una búsqueda de empleo de Python en Nueva York."
   ]
  },
  {
   "cell_type": "code",
   "execution_count": null,
   "id": "d8b148e0-b44c-471c-8a07-6a8bcea8f4ac",
   "metadata": {},
   "outputs": [],
   "source": [
    "# Encontrar los elementos HTML necesarios para extraer los datos requeridos:"
   ]
  },
  {
   "cell_type": "code",
   "execution_count": null,
   "id": "d4dd2ad6-7ec7-4ad5-961d-5281856d8b51",
   "metadata": {},
   "outputs": [],
   "source": [
    "# verificar si el objeto devuelto por BeautifulSoup es \"None\" antes de llamar el método \"find_all"
   ]
  },
  {
   "cell_type": "code",
   "execution_count": null,
   "id": "1917062d-bd3c-4d3d-8a16-95a47bcdcc15",
   "metadata": {},
   "outputs": [],
   "source": [
    "results = soup.find(id=\"my_id\")\n",
    "if results is not None:\n",
    "    job_elems = results.find_all(\"div\", class_=\"jobsearch-SerpJobCard\")\n",
    "    # continuar con el código...\n",
    "else:\n",
    "    print(\"No se encontraron resultados\")"
   ]
  },
  {
   "cell_type": "code",
   "execution_count": null,
   "id": "0073a436-a91a-4778-95d0-af0cd5c04c8a",
   "metadata": {},
   "outputs": [],
   "source": [
    "URL = 'https://es.indeed.com/jobs?q=data+scientist&l=Espa%C3%B1a&from=searchOnHP&vjk=02b6fa283cf4bd2b'\n",
    "page = requests.get(URL)"
   ]
  },
  {
   "cell_type": "code",
   "execution_count": null,
   "id": "bd46e1f5-fc24-43e7-8ccc-4abd1005fb53",
   "metadata": {},
   "outputs": [],
   "source": [
    "soup = BeautifulSoup(page.content, 'html.parser')"
   ]
  },
  {
   "cell_type": "code",
   "execution_count": null,
   "id": "c6f8f184-56e3-462a-9a06-5d98dadea5b7",
   "metadata": {},
   "outputs": [],
   "source": [
    "results = soup.find(id='resultsCol')\n",
    "\n",
    "if results is None:\n",
    "    print('No se encontraron resultados para esta búsqueda.')\n",
    "else:\n",
    "    job_elems = results.find_all('div', class_='jobsearch-SerpJobCard')\n",
    "\n",
    "    for job_elem in job_elems:\n",
    "        title_elem = job_elem.find('h2', class_='title')\n",
    "        company_elem = job_elem.find('span', class_='company')\n",
    "        location_elem = job_elem.find('div', class_='recJobLoc')\n",
    "        salary_elem = job_elem.find('span', class_='salaryText')\n",
    "\n",
    "        if None in (title_elem, company_elem, location_elem, salary_elem):\n",
    "            continue\n",
    "\n",
    "        print(title_elem.text.strip())\n",
    "        print(company_elem.text.strip())\n",
    "        print(location_elem.text.strip())\n",
    "        print(salary_elem.text.strip())\n",
    "        print()"
   ]
  },
  {
   "cell_type": "code",
   "execution_count": null,
   "id": "59e010bb-a9ab-4b99-ad6e-c7e097ab0587",
   "metadata": {},
   "outputs": [],
   "source": [
    "# Utilizar Selenium para automatizar un navegador y realizar el scraping en lugar de hacer una solicitud HTTP directamente. \n",
    "# Esta biblioteca puede simular la navegación humana y puede sortear algunos mecanismos de protección contra scraping."
   ]
  },
  {
   "cell_type": "code",
   "execution_count": null,
   "id": "58eab859-7637-48fe-8e2c-e4e78012dd0a",
   "metadata": {},
   "outputs": [],
   "source": [
    "URL = 'https://www.indeed.com/jobs?q=data+scientist&l=London&vjk=e5a9ba0130893bbb'\n",
    "\n",
    "# Configuración del navegador de Selenium\n",
    "options = webdriver.ChromeOptions()\n",
    "options.add_argument('--ignore-certificate-errors')\n",
    "options.add_argument('--incognito')\n",
    "options.add_argument('--headless')  # Ejecutar el navegador en modo headless para no mostrar la ventana del navegador\n"
   ]
  },
  {
   "cell_type": "code",
   "execution_count": null,
   "id": "e30af698-0215-44e2-888b-d4ed17d2139f",
   "metadata": {},
   "outputs": [],
   "source": [
    "# Crea una instancia del navegador de Selenium\n",
    "driver = webdriver.Chrome(options=options)"
   ]
  },
  {
   "cell_type": "code",
   "execution_count": null,
   "id": "58753342-7e4a-47a1-8503-816062fbab53",
   "metadata": {},
   "outputs": [],
   "source": [
    "# Navega a la URL\n",
    "driver.get(URL)\n",
    "time.sleep(5) # espera 5 segundos"
   ]
  },
  {
   "cell_type": "code",
   "execution_count": null,
   "id": "95d5bf2a-addc-4eed-93a8-4efb40918866",
   "metadata": {},
   "outputs": [],
   "source": [
    "# Obtiene el HTML de la página cargada\n",
    "soup = BeautifulSoup(driver.page_source, 'html.parser')"
   ]
  },
  {
   "cell_type": "code",
   "execution_count": null,
   "id": "40e1ee51-d59b-463f-acc0-714414059eaf",
   "metadata": {},
   "outputs": [],
   "source": [
    "results = None\n",
    "while results is None:\n",
    "    results = soup.find(id='resultsCol')\n",
    "    time.sleep(1)\n",
    "job_elems = results.find_all('div', class_='jobsearch-SerpJobCard')"
   ]
  },
  {
   "cell_type": "code",
   "execution_count": null,
   "id": "47928c87-35da-42b7-b8e7-6f1d2e47013d",
   "metadata": {},
   "outputs": [],
   "source": [
    "url = 'https://es.indeed.com/jobs?q=data+scientist&l=Madrid&vjk=b56097b33ca66865'\n",
    "driver = webdriver.Chrome()\n",
    "driver.get(url)\n",
    "time.sleep(3) # espera 3 segundos\n",
    "soup = BeautifulSoup(driver.page_source, 'html.parser')\n",
    "results = soup.find(id='resultsCol')\n",
    "job_elems = results.find_all('div', class_='jobsearch-SerpJobCard')"
   ]
  },
  {
   "cell_type": "code",
   "execution_count": null,
   "id": "03f5eb0e-aad5-4728-a6e8-dffd696972e8",
   "metadata": {},
   "outputs": [],
   "source": [
    "# Encontrar todos los elementos de trabajo\n",
    "job_elems = soup.find_all('div', class_='jobsearch-SerpJobCard')\n",
    "\n",
    "# Crear un archivo CSV y escribir las columnas\n",
    "with open('datos_indeed.csv', mode='w', newline='') as file:\n",
    "    writer = csv.writer(file)\n",
    "    writer.writerow(['Titulo', 'Empresa', 'Ubicacion', 'Salario', 'Descripcion'])\n",
    "\n",
    "    # Iterar sobre cada elemento de trabajo y extraer los datos relevantes\n",
    "    for job_elem in job_elems:\n",
    "        title_elem = job_elem.find('a', class_='jobtitle')\n",
    "        company_elem = job_elem.find('span', class_='company')\n",
    "        location_elem = job_elem.find('div', class_='recJobLoc')\n",
    "        salary_elem = job_elem.find('span', class_='salaryText')\n",
    "        summary_elem = job_elem.find('div', class_='summary')\n",
    "\n",
    "        # Si algún elemento es None, ignorar el trabajo\n",
    "        if None in (title_elem, company_elem, location_elem, summary_elem):\n",
    "            continue\n",
    "\n",
    "        # Obtener el texto de los elementos relevantes\n",
    "        title = title_elem.text.strip()\n",
    "        company = company_elem.text.strip()\n",
    "        location = location_elem.text.strip()\n",
    "        salary = salary_elem.text.strip() if salary_elem else ''\n",
    "        summary = summary_elem.text.strip()\n",
    "\n",
    "        # Escribir los datos en el archivo CSV\n",
    "        writer.writerow([title, company, location, salary, summary])"
   ]
  },
  {
   "cell_type": "code",
   "execution_count": null,
   "id": "d63a91c6-c6ac-440b-a84c-e9837983df3f",
   "metadata": {},
   "outputs": [],
   "source": []
  }
 ],
 "metadata": {
  "kernelspec": {
   "display_name": "Python 3 (ipykernel)",
   "language": "python",
   "name": "python3"
  },
  "language_info": {
   "codemirror_mode": {
    "name": "ipython",
    "version": 3
   },
   "file_extension": ".py",
   "mimetype": "text/x-python",
   "name": "python",
   "nbconvert_exporter": "python",
   "pygments_lexer": "ipython3",
   "version": "3.10.9"
  }
 },
 "nbformat": 4,
 "nbformat_minor": 5
}
